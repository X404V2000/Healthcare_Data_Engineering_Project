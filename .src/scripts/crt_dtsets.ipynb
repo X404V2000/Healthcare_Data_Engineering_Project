{
 "cells": [
  {
   "cell_type": "code",
   "execution_count": 29,
   "id": "82cbeb76",
   "metadata": {},
   "outputs": [],
   "source": [
    "import pandas as pd\n",
    "import numpy as np\n",
    "from faker import Faker\n",
    "import random\n",
    "from datetime import datetime, timedelta\n",
    "import hashlib"
   ]
  },
  {
   "cell_type": "code",
   "execution_count": 30,
   "id": "5a14a9da",
   "metadata": {},
   "outputs": [],
   "source": [
    "fake=Faker()"
   ]
  },
  {
   "cell_type": "code",
   "execution_count": null,
   "id": "ffaa3755",
   "metadata": {},
   "outputs": [],
   "source": [
    "def generate_medical_dataset(n):\n",
    "    data=[]\n",
    "    hospitals=[\"General Hospital\",\"City Medical Center\",\"University Hospital\",\"Community Health\",\"Regional Medical\",\"ST. Mary's Hospital\"]\n",
    "    conditions=[\n",
    "        (\"Hypertension\",\"I10\",\"Cardiovascular\"),\n",
    "        (\"Diabetes Mellitus\",\"E11\",\"Endocrine\"),\n",
    "        (\"Asthma\",\"J45\",\"Pulmonary\"),\n",
    "        (\"Chronic Obstructive Pulmonary Disease\",\"I25\",\"Respiratory\"),\n",
    "        (\"Heart Failure\",\"J44\",\"Cardiovascular\"),\n",
    "        (\"Pneumonia\",\"J18\",\"Respiratory\"),\n",
    "        (\"Chronic Kidney Disease\",\"N18\",\"Genitourinary\"),       \n",
    "        (\"Depression\",\"F32\",\"Mental Health\"),\n",
    "        (\"Anxiety Disorder\",\"F41\",\"Mental Health\"),\n",
    "        (\"Osteoarthritis\",\"M19\",\"Musculoskeletal\")\n",
    "        ]\n",
    "\n",
    "    causes_of_death=[\n",
    "        \"Cardiac Arrest\",\n",
    "        \"Respiratory Failure\",\n",
    "        \"Sepsis\",\n",
    "        \"Multiple Organ Failure\",\n",
    "        \"Cerebral Hemorrhage\",\n",
    "        \"Pulmonary Embolism\",\n",
    "        \"Liver Failure\",\n",
    "        \"Renal Failure\",\n",
    "        ]\n",
    "\n",
    "    # sensitive personal information\n",
    "    for i in range(n):\n",
    "        first_name=fake.first_name()\n",
    "        last_name=fake.last_name()\n",
    "        dob=fake.date_of_birth(minimum_age=0,maximum_age=100)\n",
    "        age=(datetime.now().date()-dob).days//365\n",
    "        ssn=fake.ssn()\n",
    "\n",
    "        # sensitive medical information\n",
    "        credit_card=fake.credit_card_number()\n",
    "        credit_card_expiry=fake.credit_card_expire()\n",
    "        credit_card_cvv=fake.credit_card_security_code()\n",
    "\n",
    "        # contact information\n",
    "        phone_number=fake.phone_number()\n",
    "        email=fake.email()\n",
    "        address=fake.address().replace(\"\\n\",\", \")\n",
    "\n",
    "        # medical episode\n",
    "        cond_=conditions\n",
    "        condition,icd_10,category=random.choice(cond_)\n",
    "        admission_date=fake.date_between(start_date='-2y',end_date='today')\n",
    "\n",
    "        # determine if patient died\n",
    "        died=random.choices([True,False],weights=[0.1,0.9])[0]\n",
    "        # if person died\n",
    "        if died:\n",
    "            stay_days=random.randint(1,30)\n",
    "            release_date=admission_date+timedelta(days=stay_days)\n",
    "            cause_of_death=random.choice(causes_of_death)\n",
    "            death_date=release_date\n",
    "        # if person survived\n",
    "        else:\n",
    "            stay_days=random.randint(1,14)\n",
    "            release_date=admission_date+timedelta(days=stay_days)\n",
    "            cause_of_death=None\n",
    "            death_date=None\n",
    "\n",
    "        transferred=random.choices([True,False],weights=[0.2,0.8])[0]\n",
    "        if transferred:\n",
    "            other_hospitals=random.sample([h for h in hospitals if h!=hospitals],k=random.randint(1,2))\n",
    "            transfer_hospitals=random.choice(other_hospitals)\n",
    "            if stay_days>7:\n",
    "                transfer_date=admission_date+timedelta(days=random.randint(3,stay_days-3))\n",
    "            else:\n",
    "                transfer_date=admission_date\n",
    "        else:\n",
    "            transfer_hospitals=None\n",
    "            transfer_date=None\n",
    "\n",
    "        # doctor appointments\n",
    "        if not died and random.random()>0.3:        # 70% gets follow up appointments\n",
    "            follow_up_date=release_date+timedelta(days=random.randint(7,90))\n",
    "        else:\n",
    "            follow_up_date=None\n",
    "\n",
    "        # insurance iformation\n",
    "        insurance_provider=[\"ABSA Insurance\",\n",
    "                            \"Hollard Insurance\",\n",
    "                            \"Momentum Insurance\",\n",
    "                            \"MiWay Insurance\",\n",
    "                            \"OUTsurance\",\n",
    "                            \"Santam Insurance\",\n",
    "                            \"Standard Insurance\",\n",
    "                            \"Old Mutual Insurance\",\n",
    "                            \"Liberty Insurance\"]\n",
    "        insurance_id=fake.random_int(1000000000,9999999999)\n",
    "    \n",
    "        # medical notes (mix of sensitive and clinical data)\n",
    "        medical_notes=f\"Patient presented with {condition}. \"\\\n",
    "                    f\"Contact: {phone_number}. \"\\\n",
    "                    f\"Email: {email}. \"\\\n",
    "                    f\"Address: {address}. \"\\\n",
    "                    f\"Insurance: {random.choice(insurance_provider)} . \"\\\n",
    "                    f\"SSN: {ssn}. \"\\\n",
    "                    f\"Clinical findings: {fake.text(max_nb_chars=400)}. \"\n",
    "    \n",
    "        # payments information\n",
    "        total_cost=round(random.uniform(5000,50000),2)\n",
    "        insurance_coverage=round(total_cost*random.uniform(0.5,0.9),2)\n",
    "        out_of_pocket=round(total_cost-insurance_coverage,2)\n",
    "\n",
    "        # create record\n",
    "        record={\n",
    "            # highly sensitive personal info\n",
    "            'patient_first_name':first_name,\n",
    "            'patient_last_name':last_name,\n",
    "            'patient_dob':dob,\n",
    "            'patient_ssn':ssn,\n",
    "            'patient_address':address,\n",
    "            'patient_phone':phone_number,\n",
    "            'patient_email':email,\n",
    "\n",
    "            # sensitive financial information\n",
    "            'patient_credit_card':credit_card,\n",
    "            'patient_credit_card_expiry':credit_card_expiry,\n",
    "            'patient_credit_card_cvv':credit_card_cvv,\n",
    "            'insurance_provider':random.choice(insurance_provider),\n",
    "            'insurance_id':insurance_id,\n",
    "\n",
    "            # clinical information\n",
    "            'age':age,\n",
    "            'admission_date':admission_date,\n",
    "            'release_date':release_date,\n",
    "            'primary_diagnosis':condition,\n",
    "            'icd_10_code':icd_10,\n",
    "            'diagnosis_category':category,\n",
    "            'attending_physician':fake.name(),\n",
    "\n",
    "            # sensitive outcomes\n",
    "            'died':died,\n",
    "            'cause_of_death':cause_of_death,\n",
    "            'death_date':death_date,\n",
    "\n",
    "            # hospital information\n",
    "            'hospital_name':random.choice(hospitals),\n",
    "            'transferred':transferred,\n",
    "            'transfer_hospitals':transfer_hospitals,\n",
    "            'transfer_date':transfer_date,\n",
    "\n",
    "            # follow-up care\n",
    "            'follow_up_appointment':follow_up_date,\n",
    "            'follow_up_doctor':fake.name() if follow_up_date else None,\n",
    "\n",
    "            # financial information\n",
    "            'total_cost':total_cost,\n",
    "            'insurance_coverage':insurance_coverage,\n",
    "            'out_of_pocket':out_of_pocket,\n",
    "\n",
    "            # medical notes (contains mix of sensitive information)\n",
    "            'medical_notes':medical_notes,\n",
    "\n",
    "            # Non-sensitive identifiers\n",
    "            'patient_id':f\"PAT{random.randint(100000,999999)}\",\n",
    "            'encounter_id':f\"ENC{random.randint(1000000,9999999)}\",\n",
    "        }\n",
    "        \n",
    "        data.append(record)\n",
    "    \n",
    "    return pd.DataFrame(data)"
   ]
  },
  {
   "cell_type": "markdown",
   "id": "7d98cd4b",
   "metadata": {},
   "source": [
    "Generate Dataset"
   ]
  },
  {
   "cell_type": "code",
   "execution_count": 48,
   "id": "2dd843c0",
   "metadata": {},
   "outputs": [
    {
     "name": "stdout",
     "output_type": "stream",
     "text": [
      "Generating medical dataset...\n"
     ]
    }
   ],
   "source": [
    "print(\"Generating medical dataset...\")\n",
    "df_medical=generate_medical_dataset(100000)"
   ]
  },
  {
   "cell_type": "code",
   "execution_count": null,
   "id": "7e7cd069",
   "metadata": {},
   "outputs": [],
   "source": [
    "print(\"\\nSample of Generated Data:\")\n",
    "print(df_medical[['patient_first_name',\n",
    "                  'patient_last_name',\n",
    "                  'primary_diagnosis',\n",
    "                  'admission_date',\n",
    "                  'died',\n",
    "                  'patient_ssn']].head(10000))\n",
    "print(f\"\\nDataset shape: {df_medical.shape}\")\n",
    "print(f\"Number of deaths: {df_medical['died'].sum()}\")"
   ]
  },
  {
   "cell_type": "markdown",
   "id": "2fc5aef6",
   "metadata": {},
   "source": [
    "SECURITY"
   ]
  },
  {
   "cell_type": "code",
   "execution_count": null,
   "id": "35ffb929",
   "metadata": {},
   "outputs": [],
   "source": [
    "def anonymize_medical_data(df_medical):\n",
    "    df_anon=df_medical.copy()\n",
    "    # hash sensitive identifiers\n",
    "    df_anon['patient_first_name']=df_anon['patient_first_name'].apply(\n",
    "            lambda x: hashlib.sha256(x.encode()).hexdigest()[:8]\n",
    "        )\n",
    "    # remove or mask highly sensitive data\n",
    "    df_anon['patient_ssn']='XXX-XX-'+df_anon['patient_ssn'].str[-4:]\n",
    "    df_anon['patient_address']='REDACTED'\n",
    "    df_anon['patient_phone']='REDACTED'\n",
    "    df_anon['insurance_id']='REDACTED'\n",
    "    df_anon['patient_email']='REDACTED'\n",
    "\n",
    "    # mask credit card information\n",
    "    df_anon['patient_credit_card']='XXXX-XXXX-XXXX-'+df_anon['patient_credit_card'].str[-4:]\n",
    "    df_anon['patient_credit_card_expiry']='XX/XX'\n",
    "    df_anon['patient_credit_card_cvv']='XXX'\n",
    "\n",
    "    # remove specific dates but keep age\n",
    "    df_anon['patient_dob']='REDACTED'\n",
    "\n",
    "    # clean medical notes of PII\n",
    "    def clean_notes(medical_notes):\n",
    "        cleaned = medical_notes\n",
    "        for term in['Contact:','Email:','Address:','Insurance:','SSN:']:\n",
    "            cleaned=cleaned.split(term)[0]+' REDACTED' if term in cleaned else cleaned\n",
    "        return cleaned\n",
    "    \n",
    "    df_anon['medical_notes']=df_anon['medical_notes'].apply(clean_notes)\n",
    "\n",
    "    return df_anon"
   ]
  },
  {
   "cell_type": "code",
   "execution_count": 81,
   "id": "faa9eeb7",
   "metadata": {},
   "outputs": [
    {
     "name": "stdout",
     "output_type": "stream",
     "text": [
      "\n",
      "Creating anonymized version...\n"
     ]
    }
   ],
   "source": [
    "print(\"\\nCreating anonymized version...\")\n",
    "df_anon=anonymize_medical_data(df_medical)"
   ]
  },
  {
   "cell_type": "code",
   "execution_count": null,
   "id": "654f9d65",
   "metadata": {},
   "outputs": [],
   "source": [
    "print(\"\\nAnonymizing medical dataset...\")\n",
    "print(df_anon[['patient_first_name',\n",
    "                'patient_last_name',\n",
    "                'primary_diagnosis',\n",
    "                'admission_date',\n",
    "                'died',\n",
    "                'patient_credit_card']].head(10))"
   ]
  },
  {
   "cell_type": "code",
   "execution_count": null,
   "id": "df0f776f",
   "metadata": {},
   "outputs": [],
   "source": [
    "print(\"\\n===MEDICAL DATA ANALYSIS\")\n",
    "\n",
    "# mortality analysis by condition\n",
    "mortality_by_diagnosis=df_medical.groupby('primary_diagnosis').agg({\n",
    "    'died':['sum','count'],\n",
    "    'age':['mean','min','max'],\n",
    "    'total_cost':['mean','min','max']\n",
    "}).round(2)\n",
    "\n",
    "print(\"\\nMortality by Diagnosis:\")\n",
    "print(mortality_by_diagnosis)"
   ]
  },
  {
   "cell_type": "markdown",
   "id": "cb6a883f",
   "metadata": {},
   "source": [
    "SAVING DATA"
   ]
  },
  {
   "cell_type": "code",
   "execution_count": null,
   "id": "b65414a9",
   "metadata": {},
   "outputs": [],
   "source": [
    "# data for engineers\n",
    "df_medical.to_csv(\"private_medical_data.csv\",index=False)"
   ]
  },
  {
   "cell_type": "code",
   "execution_count": 82,
   "id": "92103300",
   "metadata": {},
   "outputs": [],
   "source": [
    "# data for public\n",
    "df_anon.to_csv(\"public_medical_data_.csv\",index=False)"
   ]
  }
 ],
 "metadata": {
  "kernelspec": {
   "display_name": ".proj (3.13.7)",
   "language": "python",
   "name": "python3"
  },
  "language_info": {
   "codemirror_mode": {
    "name": "ipython",
    "version": 3
   },
   "file_extension": ".py",
   "mimetype": "text/x-python",
   "name": "python",
   "nbconvert_exporter": "python",
   "pygments_lexer": "ipython3",
   "version": "3.13.7"
  }
 },
 "nbformat": 4,
 "nbformat_minor": 5
}
